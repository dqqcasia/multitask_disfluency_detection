{
 "cells": [
  {
   "cell_type": "code",
   "execution_count": 1,
   "metadata": {},
   "outputs": [
    {
     "name": "stderr",
     "output_type": "stream",
     "text": [
      "/home/ishalyminov/.virtualenvs/deep_disfluency/local/lib/python2.7/site-packages/h5py/__init__.py:36: FutureWarning: Conversion of the second argument of issubdtype from `float` to `np.floating` is deprecated. In future, it will be treated as `np.float64 == np.dtype(float).type`.\n",
      "  from ._conv import register_converters as _register_converters\n"
     ]
    }
   ],
   "source": [
    "import os\n",
    "import random\n",
    "from collections import defaultdict\n",
    "\n",
    "import pandas as pd\n",
    "import numpy as np\n",
    "\n",
    "from config import read_config, DEFAULT_CONFIG_FILE\n",
    "from dialogue_denoiser_lstm import get_sample_weight, make_dataset\n",
    "from data_utils import make_vocabulary"
   ]
  },
  {
   "cell_type": "code",
   "execution_count": 2,
   "metadata": {},
   "outputs": [],
   "source": [
    "DATA_FOLDER = 'deep_disfluency_dataset_timings'\n",
    "MODEL_FOLDER = 'importance_sampling'\n",
    "CONFIG = read_config(DEFAULT_CONFIG_FILE)\n",
    "\n",
    "random.seed(273)\n",
    "np.random.seed(273)"
   ]
  },
  {
   "cell_type": "code",
   "execution_count": 3,
   "metadata": {},
   "outputs": [],
   "source": [
    "trainset = pd.read_json(os.path.join(DATA_FOLDER, 'trainset.json'))\n",
    "if CONFIG['use_pos_tags']:\n",
    "    utterances = []\n",
    "    for utterance, postags in zip(trainset['utterance'], trainset['pos']):\n",
    "        utterance_augmented = ['{}_{}'.format(token, pos)\n",
    "                               for token, pos in zip(utterance, postags)]\n",
    "        utterances.append(utterance_augmented)\n",
    "    else:\n",
    "        utterances = trainset['utterance']\n",
    "vocab, _ = make_vocabulary(utterances, CONFIG['max_vocabulary_size'])\n",
    "label_vocab, _ = make_vocabulary(trainset['tags'].values,\n",
    "                                 CONFIG['max_vocabulary_size'],\n",
    "                                 special_tokens=[])\n",
    "rev_label_vocab = {label_id: label\n",
    "                   for label, label_id in label_vocab.iteritems()}\n",
    "X_train, y_train = make_dataset(trainset, vocab, label_vocab, CONFIG)\n",
    "\n",
    "y_train_flattened = np.argmax(y_train, axis=-1)"
   ]
  },
  {
   "cell_type": "code",
   "execution_count": 4,
   "metadata": {},
   "outputs": [],
   "source": [
    "def samples_to_class_ids(in_samples, in_labels, in_label_vocab):\n",
    "    return map(in_label_vocab.get, in_labels.take(in_samples))"
   ]
  },
  {
   "cell_type": "code",
   "execution_count": 5,
   "metadata": {},
   "outputs": [],
   "source": [
    "def make_freq_dict(in_list):\n",
    "    result = defaultdict(lambda: 0)\n",
    "    for element in in_list:\n",
    "        result[element] += 1.0\n",
    "    return result"
   ]
  },
  {
   "cell_type": "code",
   "execution_count": 6,
   "metadata": {},
   "outputs": [],
   "source": [
    "def softmax(x, t=1.0):\n",
    "    \"\"\"Compute softmax values for each sets of scores in x.\"\"\"\n",
    "    x_t = x / t\n",
    "    e_x = np.exp(x_t - np.max(x_t))\n",
    "    return e_x / e_x.sum()"
   ]
  },
  {
   "cell_type": "code",
   "execution_count": 9,
   "metadata": {},
   "outputs": [],
   "source": [
    "def get_class_weight_proportional(in_labels, smoothing_coef=1.0):\n",
    "    label_freqs = defaultdict(lambda: 0)\n",
    "    for label in in_labels:\n",
    "        label_freqs[label] += 1.0\n",
    "    label_weights = {label: 1.0 / np.power(float(freq), 1.0 / smoothing_coef) for label, freq in label_freqs.iteritems()}\n",
    "    return label_weights"
   ]
  },
  {
   "cell_type": "code",
   "execution_count": 145,
   "metadata": {},
   "outputs": [],
   "source": [
    "class_weight = get_class_weight_proportional(y_train_flattened, smoothing_coef=1.05)\n",
    "sample_weights = get_sample_weight(y_train_flattened, class_weight)\n",
    "sample_probs = sample_weights / float(sum(sample_weights))"
   ]
  },
  {
   "cell_type": "code",
   "execution_count": 146,
   "metadata": {},
   "outputs": [
    {
     "name": "stdout",
     "output_type": "stream",
     "text": [
      "<f/>:\t610.0\n",
      "<e/>:\t476.0\n",
      "<rm-3/><rpMid/>:\t453.0\n",
      "<rm-2/><rpMid/>:\t441.0\n",
      "<rpEndSub/>:\t428.0\n",
      "<rm-2/><rpEndSub/>:\t425.0\n",
      "<rm-1/><rpEndSub/>:\t423.0\n",
      "<rm-1/><rpMid/>:\t409.0\n",
      "<rm-4/><rpMid/>:\t404.0\n",
      "<rm-3/><rpEndSub/>:\t394.0\n",
      "<rm-6/><rpMid/>:\t392.0\n",
      "<rm-5/><rpMid/>:\t390.0\n",
      "<rm-2/><rpEndDel/>:\t383.0\n",
      "<rm-1/><rpEndDel/>:\t376.0\n",
      "<rm-3/><rpEndDel/>:\t365.0\n",
      "<rm-8/><rpMid/>:\t361.0\n",
      "<rm-4/><rpEndSub/>:\t354.0\n",
      "<rm-7/><rpMid/>:\t343.0\n",
      "<rm-5/><rpEndSub/>:\t341.0\n",
      "<rm-4/><rpEndDel/>:\t335.0\n",
      "<rm-6/><rpEndSub/>:\t332.0\n",
      "<rm-7/><rpEndDel/>:\t326.0\n",
      "<rm-5/><rpEndDel/>:\t314.0\n",
      "<rm-8/><rpEndSub/>:\t313.0\n",
      "<rm-7/><rpEndSub/>:\t309.0\n",
      "<rm-6/><rpEndDel/>:\t303.0\n"
     ]
    }
   ],
   "source": [
    "sample = np.random.choice(range(sample_probs.shape[0]), size=10000, p=sample_probs)\n",
    "for key, value in sorted(make_freq_dict(samples_to_class_ids(sample, y_train_flattened, rev_label_vocab)).iteritems(), key=lambda x: x[1], reverse=True):\n",
    "    print '{}:\\t{}'.format(key, value)"
   ]
  }
 ],
 "metadata": {
  "kernelspec": {
   "display_name": "Python 2",
   "language": "python",
   "name": "python2"
  },
  "language_info": {
   "codemirror_mode": {
    "name": "ipython",
    "version": 2
   },
   "file_extension": ".py",
   "mimetype": "text/x-python",
   "name": "python",
   "nbconvert_exporter": "python",
   "pygments_lexer": "ipython2",
   "version": "2.7.15rc1"
  }
 },
 "nbformat": 4,
 "nbformat_minor": 2
}
